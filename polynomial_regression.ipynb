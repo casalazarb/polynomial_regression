{
  "nbformat": 4,
  "nbformat_minor": 0,
  "metadata": {
    "colab": {
      "name": "polynomial_regression.ipynb",
      "provenance": [],
      "collapsed_sections": []
    },
    "kernelspec": {
      "name": "python3",
      "display_name": "Python 3"
    },
    "language_info": {
      "name": "python"
    }
  },
  "cells": [
    {
      "cell_type": "code",
      "metadata": {
        "colab": {
          "base_uri": "https://localhost:8080/"
        },
        "id": "JjwT5LX9IJfz",
        "outputId": "c7ab3e15-188c-4212-cee4-dfb70b6979fe"
      },
      "source": [
        "%matplotlib inline\n",
        "import pandas as pd\n",
        "import numpy as np\n",
        "import matplotlib.pyplot as plt\n",
        "import statsmodels.api as sm"
      ],
      "execution_count": null,
      "outputs": [
        {
          "output_type": "stream",
          "text": [
            "/usr/local/lib/python3.7/dist-packages/statsmodels/tools/_testing.py:19: FutureWarning: pandas.util.testing is deprecated. Use the functions in the public API at pandas.testing instead.\n",
            "  import pandas.util.testing as tm\n"
          ],
          "name": "stderr"
        }
      ]
    },
    {
      "cell_type": "code",
      "metadata": {
        "colab": {
          "base_uri": "https://localhost:8080/"
        },
        "id": "zFmVN3TuOTPu",
        "outputId": "16588782-2984-4c43-9bca-c6bdaf8c3b83"
      },
      "source": [
        "from google.colab import drive\n",
        "drive.mount('/content/drive')"
      ],
      "execution_count": null,
      "outputs": [
        {
          "output_type": "stream",
          "text": [
            "Mounted at /content/drive\n"
          ],
          "name": "stdout"
        }
      ]
    },
    {
      "cell_type": "code",
      "metadata": {
        "colab": {
          "base_uri": "https://localhost:8080/"
        },
        "id": "dMVdqVjpOjLo",
        "outputId": "aaa24c9d-045d-4668-d49c-b2168c41b6e5"
      },
      "source": [
        "pisa = pd.read_csv('/content/drive/MyDrive/Colab Notebooks/pisa.csv')\n",
        "print(pisa.head())\n",
        "print(len(pisa.index))"
      ],
      "execution_count": null,
      "outputs": [
        {
          "output_type": "stream",
          "text": [
            "   punt_lec  horas  n_est\n",
            "0    396.72    7.5     25\n",
            "1    382.39    4.2     28\n",
            "2    394.37    3.3     23\n",
            "3    335.06    4.2     35\n",
            "4    420.86    5.0     20\n",
            "99\n"
          ],
          "name": "stdout"
        }
      ]
    },
    {
      "cell_type": "code",
      "metadata": {
        "id": "wNy_0OUVO4kJ"
      },
      "source": [
        "X = np.array([pisa['horas'],pisa['n_est']]).T\n",
        "Y = np.array(pisa['punt_lec']).reshape(-1,1)"
      ],
      "execution_count": null,
      "outputs": []
    },
    {
      "cell_type": "code",
      "metadata": {
        "colab": {
          "base_uri": "https://localhost:8080/"
        },
        "id": "hwdsv80AQMBI",
        "outputId": "26ffd1f4-7020-46c5-bddd-2793f4dc498a"
      },
      "source": [
        "#statmodels to estimate the model\n",
        "X = sm.add_constant(X)\n",
        "lin_mod = sm.OLS(Y,X)\n",
        "result = lin_mod.fit()\n",
        "print(result.summary())"
      ],
      "execution_count": null,
      "outputs": [
        {
          "output_type": "stream",
          "text": [
            "                            OLS Regression Results                            \n",
            "==============================================================================\n",
            "Dep. Variable:                      y   R-squared:                       0.948\n",
            "Model:                            OLS   Adj. R-squared:                  0.947\n",
            "Method:                 Least Squares   F-statistic:                     876.8\n",
            "Date:                Tue, 13 Jul 2021   Prob (F-statistic):           2.13e-62\n",
            "Time:                        23:48:37   Log-Likelihood:                -349.13\n",
            "No. Observations:                  99   AIC:                             704.3\n",
            "Df Residuals:                      96   BIC:                             712.0\n",
            "Df Model:                           2                                         \n",
            "Covariance Type:            nonrobust                                         \n",
            "==============================================================================\n",
            "                 coef    std err          t      P>|t|      [0.025      0.975]\n",
            "------------------------------------------------------------------------------\n",
            "const        486.0782      3.412    142.480      0.000     479.306     492.850\n",
            "x1             6.3720      0.313     20.385      0.000       5.752       6.992\n",
            "x2            -5.0946      0.129    -39.617      0.000      -5.350      -4.839\n",
            "==============================================================================\n",
            "Omnibus:                       18.110   Durbin-Watson:                   1.867\n",
            "Prob(Omnibus):                  0.000   Jarque-Bera (JB):                5.051\n",
            "Skew:                          -0.162   Prob(JB):                       0.0800\n",
            "Kurtosis:                       1.942   Cond. No.                         107.\n",
            "==============================================================================\n",
            "\n",
            "Warnings:\n",
            "[1] Standard Errors assume that the covariance matrix of the errors is correctly specified.\n"
          ],
          "name": "stdout"
        }
      ]
    },
    {
      "cell_type": "code",
      "metadata": {
        "colab": {
          "base_uri": "https://localhost:8080/"
        },
        "id": "dNjEJjAxRbw2",
        "outputId": "2ec48e26-670e-4933-dfa6-4815456d295d"
      },
      "source": [
        "#load toy dataframe\n",
        "curva = pd.read_csv('/content/drive/MyDrive/Colab Notebooks/curva.csv')\n",
        "print(curva.head())"
      ],
      "execution_count": null,
      "outputs": [
        {
          "output_type": "stream",
          "text": [
            "          Y         X\n",
            "0  0.314409 -2.109098\n",
            "1  1.016197 -2.092655\n",
            "2  1.920933 -2.063055\n",
            "3  1.513532 -2.036740\n",
            "4  0.596101 -2.009291\n"
          ],
          "name": "stdout"
        }
      ]
    },
    {
      "cell_type": "code",
      "metadata": {
        "colab": {
          "base_uri": "https://localhost:8080/",
          "height": 279
        },
        "id": "X_Ph7zt7ZRP4",
        "outputId": "760427b2-fb7e-4024-b294-27d28ee680bc"
      },
      "source": [
        "#scatter plot\n",
        "plt.scatter(curva['X'], curva['Y'], color = 'c', marker = 'o', s = 10)\n",
        "plt.xlabel('X')\n",
        "plt.ylabel('Y')\n",
        "plt.show()"
      ],
      "execution_count": null,
      "outputs": [
        {
          "output_type": "display_data",
          "data": {
            "image/png": "[encoded data removed]",
            "text/plain": [
              "<Figure size 432x288 with 1 Axes>"
            ]
          },
          "metadata": {
            "tags": [],
            "needs_background": "light"
          }
        }
      ]
    },
    {
      "cell_type": "code",
      "metadata": {
        "id": "n0niur_maCrF"
      },
      "source": [
        "#Prepare the data\n",
        "X = np.array([curva['X']]).T\n",
        "Y = np.array(curva['Y']).reshape(-1,1)"
      ],
      "execution_count": null,
      "outputs": []
    },
    {
      "cell_type": "code",
      "metadata": {
        "colab": {
          "base_uri": "https://localhost:8080/"
        },
        "id": "HzOEhELWbMwH",
        "outputId": "126ab79d-ea3a-4939-c9fe-4a8c5fefd92f"
      },
      "source": [
        "#Estimate a simple linear regression\n",
        "X = sm.add_constant(X)\n",
        "lin_model = sm.OLS(Y,X)\n",
        "result = lin_model.fit()\n",
        "print(result.params)"
      ],
      "execution_count": null,
      "outputs": [
        {
          "output_type": "stream",
          "text": [
            "[1.88837611 0.24638396]\n"
          ],
          "name": "stdout"
        }
      ]
    },
    {
      "cell_type": "code",
      "metadata": {
        "colab": {
          "base_uri": "https://localhost:8080/",
          "height": 279
        },
        "id": "b4AtZ7lAbwh4",
        "outputId": "4ad29379-482e-4e5d-e956-0003d3fea469"
      },
      "source": [
        "#Goodness of fit ot the linear regression, too much bias, low variance\n",
        "plt.scatter(curva['X'], curva['Y'], color = 'c', marker = 'o', s = 10)\n",
        "y_pred = result.params[0] + result.params[1]*curva['X']\n",
        "plt.plot(curva['X'], y_pred, color = 'red')\n",
        "plt.xlabel('X')\n",
        "plt.ylabel('Y')\n",
        "plt.show()"
      ],
      "execution_count": null,
      "outputs": [
        {
          "output_type": "display_data",
          "data": {
            "image/png": "[encoded data removed]",
            "text/plain": [
              "<Figure size 432x288 with 1 Axes>"
            ]
          },
          "metadata": {
            "tags": [],
            "needs_background": "light"
          }
        }
      ]
    },
    {
      "cell_type": "code",
      "metadata": {
        "colab": {
          "base_uri": "https://localhost:8080/"
        },
        "id": "EZ0mNMwdcurr",
        "outputId": "37fd61cb-0401-4be1-bcf0-3ab5cfd7d5d3"
      },
      "source": [
        "#reduce the bias increase the variance with a squared polynomial\n",
        "curva['X2'] = curva['X']**2\n",
        "print(curva.head())"
      ],
      "execution_count": null,
      "outputs": [
        {
          "output_type": "stream",
          "text": [
            "          Y         X        X2\n",
            "0  0.314409 -2.109098  4.448294\n",
            "1  1.016197 -2.092655  4.379207\n",
            "2  1.920933 -2.063055  4.256195\n",
            "3  1.513532 -2.036740  4.148309\n",
            "4  0.596101 -2.009291  4.037252\n"
          ],
          "name": "stdout"
        }
      ]
    },
    {
      "cell_type": "code",
      "metadata": {
        "id": "3DSWFmr1e6bW"
      },
      "source": [
        "#estimate the square polynomial regression\n",
        "X = np.array([curva['X'], curva['X2']]).T\n",
        "Y = np.array(curva['Y']).reshape(-1,1)"
      ],
      "execution_count": null,
      "outputs": []
    },
    {
      "cell_type": "code",
      "metadata": {
        "colab": {
          "base_uri": "https://localhost:8080/"
        },
        "id": "bJQg5R9kfE35",
        "outputId": "b8f485e3-c4e4-4f24-bb55-4b97f64f987d"
      },
      "source": [
        "X = sm.add_constant(X)\n",
        "lin_model = sm.OLS(Y,X)\n",
        "result = lin_model.fit()\n",
        "print(result.params)"
      ],
      "execution_count": null,
      "outputs": [
        {
          "output_type": "stream",
          "text": [
            "[ 0.53039157 -0.34930962  0.67397152]\n"
          ],
          "name": "stdout"
        }
      ]
    },
    {
      "cell_type": "code",
      "metadata": {
        "colab": {
          "base_uri": "https://localhost:8080/",
          "height": 279
        },
        "id": "kVuvcvlcfJQ3",
        "outputId": "06bc9fc6-c4af-46e3-eda8-7497d29232ef"
      },
      "source": [
        "#goodness of fit\n",
        "plt.scatter(curva['X'], curva['Y'], color = 'c', marker = 'o', s = 10)\n",
        "y_pred = result.params[0] + result.params[1]*curva['X'] + result.params[2]*curva['X2']\n",
        "plt.plot(curva['X'], y_pred, color = 'red')\n",
        "plt.xlabel('X')\n",
        "plt.ylabel('Y')\n",
        "plt.show()"
      ],
      "execution_count": null,
      "outputs": [
        {
          "output_type": "display_data",
          "data": {
            "image/png": "[encoded data removed]",
            "text/plain": [
              "<Figure size 432x288 with 1 Axes>"
            ]
          },
          "metadata": {
            "tags": [],
            "needs_background": "light"
          }
        }
      ]
    },
    {
      "cell_type": "code",
      "metadata": {
        "colab": {
          "base_uri": "https://localhost:8080/"
        },
        "id": "VZ_POVS2fdU5",
        "outputId": "50801842-66ba-48ed-8604-e52b439fe108"
      },
      "source": [
        "#less bias with square and cubic polynomials\n",
        "curva['X3'] = curva['X']**3\n",
        "print(curva.head())"
      ],
      "execution_count": null,
      "outputs": [
        {
          "output_type": "stream",
          "text": [
            "          Y         X        X2        X3\n",
            "0  0.314409 -2.109098  4.448294 -9.381889\n",
            "1  1.016197 -2.092655  4.379207 -9.164171\n",
            "2  1.920933 -2.063055  4.256195 -8.780763\n",
            "3  1.513532 -2.036740  4.148309 -8.449026\n",
            "4  0.596101 -2.009291  4.037252 -8.112016\n"
          ],
          "name": "stdout"
        }
      ]
    },
    {
      "cell_type": "code",
      "metadata": {
        "id": "ixbwDItrgDHB"
      },
      "source": [
        "#estimate the regression\n",
        "X = np.array([curva['X'], curva['X2'], curva['X3']]).T\n",
        "Y = np.array(curva['Y']).reshape(-1,1)"
      ],
      "execution_count": null,
      "outputs": []
    },
    {
      "cell_type": "code",
      "metadata": {
        "colab": {
          "base_uri": "https://localhost:8080/"
        },
        "id": "Om0hvt4vf9zd",
        "outputId": "f49e0b54-3c67-4232-b7a6-905631ccb278"
      },
      "source": [
        "X = sm.add_constant(X)\n",
        "lin_model = sm.OLS(Y,X)\n",
        "result = lin_model.fit()\n",
        "print(result.params)"
      ],
      "execution_count": null,
      "outputs": [
        {
          "output_type": "stream",
          "text": [
            "[ 1.41078265 -2.03346695 -0.02621816  0.50872222]\n"
          ],
          "name": "stdout"
        }
      ]
    },
    {
      "cell_type": "code",
      "metadata": {
        "colab": {
          "base_uri": "https://localhost:8080/",
          "height": 279
        },
        "id": "Zgm645dXgM3u",
        "outputId": "9fedce77-755b-4da7-b404-0833e8d56cda"
      },
      "source": [
        "#scatter plot less bias more variance better goodness of fit\n",
        "plt.scatter(curva['X'], curva['Y'], color = 'c', marker = 'o', s = 10)\n",
        "y_pred = result.params[0] + result.params[1]*curva['X'] + result.params[2]*curva['X2'] + result.params[3]*curva['X3']\n",
        "plt.plot(curva['X'], y_pred, color = 'red')\n",
        "plt.xlabel('X')\n",
        "plt.ylabel('Y')\n",
        "plt.show()"
      ],
      "execution_count": null,
      "outputs": [
        {
          "output_type": "display_data",
          "data": {
            "image/png": "[encoded data removed]",
            "text/plain": [
              "<Figure size 432x288 with 1 Axes>"
            ]
          },
          "metadata": {
            "tags": [],
            "needs_background": "light"
          }
        }
      ]
    }
  ]
}